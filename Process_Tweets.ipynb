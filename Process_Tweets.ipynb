{
 "cells": [
  {
   "cell_type": "markdown",
   "metadata": {},
   "source": [
    "# Process Tweets\n",
    "This notebook shows how you can process annotated tweets created using the Jupyter notebook widget in the Tweets notebook into the format expected by the classifiers."
   ]
  },
  {
   "cell_type": "code",
   "execution_count": 7,
   "metadata": {},
   "outputs": [],
   "source": [
    "import pandas as pd\n",
    "import numpy as np"
   ]
  },
  {
   "cell_type": "code",
   "execution_count": 8,
   "metadata": {},
   "outputs": [],
   "source": [
    "tweet_df = pd.read_pickle(\"tweets/mask_df.pickle\")"
   ]
  },
  {
   "cell_type": "code",
   "execution_count": 9,
   "metadata": {},
   "outputs": [],
   "source": [
    "pos_inxs = np.where(tweet_df[\"sentiment\"] == '\"positive\"')[0]\n",
    "neg_inxs = np.where(tweet_df[\"sentiment\"] == '\"negative\"')[0]"
   ]
  },
  {
   "cell_type": "code",
   "execution_count": 10,
   "metadata": {},
   "outputs": [],
   "source": [
    "import string\n",
    "translator = str.maketrans('', '', string.punctuation)\n",
    "def create_data_structures(tweet_df,inxs):\n",
    "    all_annots = []\n",
    "    for i in inxs:\n",
    "        entry = {}\n",
    "        entry[\"mask\"] = tweet_df.iloc[i][\"mask\"]\n",
    "        words = tweet_df.iloc[i][\"tweet\"].split(\" \")\n",
    "        words = [word.lower().translate(translator) for word in words]\n",
    "        entry[\"words\"] = words\n",
    "        all_annots.append(entry)\n",
    "    return all_annots"
   ]
  },
  {
   "cell_type": "code",
   "execution_count": 11,
   "metadata": {},
   "outputs": [],
   "source": [
    "all_positive_annots = create_data_structures(tweet_df,pos_inxs)\n",
    "all_negative_annots = create_data_structures(tweet_df,neg_inxs)"
   ]
  },
  {
   "cell_type": "code",
   "execution_count": 12,
   "metadata": {},
   "outputs": [
    {
     "data": {
      "text/plain": [
       "8852"
      ]
     },
     "execution_count": 12,
     "metadata": {},
     "output_type": "execute_result"
    }
   ],
   "source": [
    "import json\n",
    "open(\"training_data/tweets_positive.txt\",\"w\").write(json.dumps(all_positive_annots))\n",
    "open(\"training_data/tweets_negative.txt\",\"w\").write(json.dumps(all_negative_annots))"
   ]
  },
  {
   "cell_type": "code",
   "execution_count": null,
   "metadata": {},
   "outputs": [],
   "source": []
  }
 ],
 "metadata": {
  "kernelspec": {
   "display_name": "Python 3",
   "language": "python",
   "name": "python3"
  },
  "language_info": {
   "codemirror_mode": {
    "name": "ipython",
    "version": 3
   },
   "file_extension": ".py",
   "mimetype": "text/x-python",
   "name": "python",
   "nbconvert_exporter": "python",
   "pygments_lexer": "ipython3",
   "version": "3.5.2"
  }
 },
 "nbformat": 4,
 "nbformat_minor": 2
}
