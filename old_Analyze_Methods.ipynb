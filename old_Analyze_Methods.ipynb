{
 "cells": [
  {
   "cell_type": "markdown",
   "metadata": {},
   "source": [
    "# Analyze Methods\n",
    "This notebook demonstrates how to train and evaluate the classifiers for sentence-level target identification."
   ]
  },
  {
   "cell_type": "code",
   "execution_count": 1,
   "metadata": {},
   "outputs": [],
   "source": [
    "%matplotlib inline\n",
    "%load_ext autoreload\n",
    "%autoreload 2"
   ]
  },
  {
   "cell_type": "code",
   "execution_count": 2,
   "metadata": {},
   "outputs": [],
   "source": [
    "import numpy as np\n",
    "import os\n",
    "import pickle\n",
    "import warnings"
   ]
  },
  {
   "cell_type": "code",
   "execution_count": 3,
   "metadata": {},
   "outputs": [],
   "source": [
    "# Set this to true if you want to load the pickle files\n",
    "LOAD_PREV_EVAL=False"
   ]
  },
  {
   "cell_type": "markdown",
   "metadata": {},
   "source": [
    "## Below are all of the local imports"
   ]
  },
  {
   "cell_type": "code",
   "execution_count": 4,
   "metadata": {},
   "outputs": [],
   "source": [
    "import sys\n",
    "sys.path.append(\"..\")"
   ]
  },
  {
   "cell_type": "code",
   "execution_count": 101,
   "metadata": {},
   "outputs": [],
   "source": [
    "import sentence_annotation.evaluate as evaluate\n",
    "import sentence_annotation.novel_methods as novel_methods\n",
    "import sentence_annotation.standard_methods as standard_methods\n",
    "import sentence_annotation.alignment as alignment"
   ]
  },
  {
   "cell_type": "markdown",
   "metadata": {},
   "source": [
    "## Load the word2vec models"
   ]
  },
  {
   "cell_type": "markdown",
   "metadata": {},
   "source": [
    "In order to run this notebook, you must download the pre-trained word2vec model, which is available for download at:\n",
    "http://yuca.test.iminds.be:8900/fgodin/downloads/word2vec_twitter_model.tar.gz"
   ]
  },
  {
   "cell_type": "code",
   "execution_count": 26,
   "metadata": {},
   "outputs": [],
   "source": [
    "import word2vec\n",
    "import word2vecReader\n",
    "\n",
    "# The location of the .bin file is specific to where you downloaded the file (of course)\n",
    "w2v_tweets = word2vecReader.Word2Vec.load_word2vec_format(\"/mnt/bd2/word2vec_twitter_model/word2vec_twitter_model.bin\",binary=True)"
   ]
  },
  {
   "cell_type": "markdown",
   "metadata": {},
   "source": [
    "### Train and Evaluate Standard Models (or load previous)"
   ]
  },
  {
   "cell_type": "code",
   "execution_count": 52,
   "metadata": {},
   "outputs": [
    {
     "name": "stdout",
     "output_type": "stream",
     "text": [
      "Evaluating tweets\n",
      "Evaluating tweets\n",
      "Evaluating tweets\n"
     ]
    }
   ],
   "source": [
    "if not LOAD_PREV_EVAL:\n",
    "    with warnings.catch_warnings():\n",
    "        warnings.simplefilter(\"ignore\")\n",
    "        eval_results_rf = evaluate.evaluate_method(standard_methods.create_pipeline_bow_rf(),training_data_dir=\"training_data\")\n",
    "        open(\"results/eval_results_rf.pkl\",\"wb\").write(pickle.dumps(eval_results_rf))\n",
    "        eval_results_nb = evaluate.evaluate_method(standard_methods.create_pipeline_bow_nb(),training_data_dir=\"training_data\")\n",
    "        open(\"results/eval_results_nb.pkl\",\"wb\").write(pickle.dumps(eval_results_nb))\n",
    "        eval_results_svm = evaluate.evaluate_method(standard_methods.create_pipeline_bow_svm(),training_data_dir=\"training_data\")\n",
    "        open(\"results/eval_results_svm.pkl\",\"wb\").write(pickle.dumps(eval_results_svm))\n",
    "        eval_results_alignment_v1 = evaluate.evaluate_method(novel_methods.create_pipeline_alignment_v1(w2v_tweets),training_data_dir=\"training_data\")\n",
    "        open(\"results/eval_results_alignment_v1.pkl\",\"wb\").write(pickle.dumps(eval_results_svm))\n",
    "else:\n",
    "    eval_results_rf = pickle.load(open(\"results/eval_results_rf.pkl\",\"rb\"))\n",
    "    eval_results_svm = pickle.load(open(\"results/eval_results_svm.pkl\",\"rb\"))\n",
    "    eval_results_nb = pickle.load(open(\"results/eval_results_nb.pkl\",\"rb\"))\n"
   ]
  },
  {
   "cell_type": "code",
   "execution_count": 133,
   "metadata": {},
   "outputs": [
    {
     "name": "stdout",
     "output_type": "stream",
     "text": [
      "Evaluating tweets\n"
     ]
    }
   ],
   "source": [
    "with warnings.catch_warnings():\n",
    "    warnings.simplefilter(\"ignore\")\n",
    "    eval_results_max = evaluate.evaluate_method(novel_methods.create_pipeline(w2v_tweets,novel_methods.get_max_distance_metric),training_data_dir=\"training_data\")"
   ]
  },
  {
   "cell_type": "code",
   "execution_count": 134,
   "metadata": {},
   "outputs": [
    {
     "name": "stdout",
     "output_type": "stream",
     "text": [
      "Evaluating tweets\n"
     ]
    }
   ],
   "source": [
    "with warnings.catch_warnings():\n",
    "    warnings.simplefilter(\"ignore\")\n",
    "    eval_results_mean = evaluate.evaluate_method(novel_methods.create_pipeline(w2v_tweets,novel_methods.get_mean_distance_metric),training_data_dir=\"training_data\")"
   ]
  },
  {
   "cell_type": "code",
   "execution_count": 126,
   "metadata": {},
   "outputs": [
    {
     "name": "stdout",
     "output_type": "stream",
     "text": [
      "Evaluating tweets\n"
     ]
    }
   ],
   "source": [
    "with warnings.catch_warnings():\n",
    "    warnings.simplefilter(\"ignore\")\n",
    "    alignment_method = alignment.Alignment(w2v_tweets)\n",
    "    eval_results_alignment_v1 = evaluate.evaluate_method(novel_methods.create_pipeline(alignment_method,novel_methods.get_alignment_distance_metric),training_data_dir=\"training_data\")"
   ]
  },
  {
   "cell_type": "code",
   "execution_count": 129,
   "metadata": {},
   "outputs": [
    {
     "data": {
      "text/plain": [
       "{'tweets': {2: array([0.66137566, 0.54459203, 0.60261438, 0.64567955, 0.55299335,\n",
       "         0.46784922, 0.33063428, 0.33063428, 0.56231003, 0.56231003,\n",
       "         0.58041958, 0.58222629, 0.42527716, 0.50337382, 0.45351044,\n",
       "         0.64444444, 0.51042129, 0.58222629, 0.58041958, 0.52857143]),\n",
       "  3: array([0.66618287, 0.64132554, 0.64615385, 0.52530713, 0.45626478,\n",
       "         0.51809524, 0.60571429, 0.4619883 , 0.64952381, 0.73461538,\n",
       "         0.65151515, 0.55110426, 0.67252017, 0.67001435, 0.4565999 ,\n",
       "         0.60192308, 0.50682261, 0.64132554, 0.62677485, 0.53794643]),\n",
       "  4: array([0.61183186, 0.47276688, 0.4989648 , 0.51648352, 0.74883238,\n",
       "         0.49425287, 0.56282876, 0.47700258, 0.62947368, 0.63561077,\n",
       "         0.63561077, 0.58787879, 0.61343669, 0.52248062, 0.58315789,\n",
       "         0.53939394, 0.49052632, 0.61426067, 0.63333333, 0.54166667]),\n",
       "  5: array([0.68602645, 0.62566845, 0.57045455, 0.61111111, 0.61556064,\n",
       "         0.45207033, 0.59500851, 0.43673469, 0.58941921, 0.58941921,\n",
       "         0.61904762, 0.54529915, 0.48148148, 0.65768025, 0.57575758,\n",
       "         0.69030062, 0.58941921, 0.61556064, 0.5194508 , 0.47619048]),\n",
       "  6: array([0.47916667, 0.57259585, 0.64912281, 0.56825397, 0.56157318,\n",
       "         0.55      , 0.53125   , 0.59079284, 0.37795808, 0.52480783,\n",
       "         0.59432049, 0.59899749, 0.65      , 0.57259585, 0.56157318,\n",
       "         0.64194373, 0.55      , 0.65      , 0.50999355, 0.74937343]),\n",
       "  7: array([0.59139785, 0.54982578, 0.54761905, 0.56818182, 0.65574913,\n",
       "         0.6049896 , 0.58180484, 0.55232155, 0.78947368, 0.73684211,\n",
       "         0.57777778, 0.52631579, 0.68067227, 0.65186751, 0.61449275,\n",
       "         0.57894737, 0.52604549, 0.46022727, 0.58180484, 0.57894737]),\n",
       "  8: array([0.42857143, 0.51848938, 0.57513769, 0.37142857, 0.6625    ,\n",
       "         0.52741313, 0.60990712, 0.54285714, 0.68243785, 0.74508261,\n",
       "         0.55417957, 0.60625   , 0.56696071, 0.6       , 0.55555556,\n",
       "         0.52447552, 0.57859532, 0.62469928, 0.6       , 0.53246753]),\n",
       "  9: array([0.41176471, 0.61731602, 0.55536181, 0.51428571, 0.46315789,\n",
       "         0.67619048, 0.6091954 , 0.58823529, 0.58680556, 0.58245614,\n",
       "         0.66214995, 0.61731602, 0.575     , 0.67619048, 0.66931919,\n",
       "         0.64210526, 0.49607672, 0.61731602, 0.58883721, 0.52280702]),\n",
       "  10: array([0.59014778, 0.58358358, 0.625     , 0.59014778, 0.68627451,\n",
       "         0.48178138, 0.53079179, 0.46403941, 0.57333333, 0.71847507,\n",
       "         0.64764765, 0.5       , 0.68627451, 0.53079179, 0.625     ,\n",
       "         0.5625    , 0.46666667, 0.49803922, 0.56078431, 0.59014778]),\n",
       "  11: array([0.52488688, 0.66517857, 0.66517857, 0.49944383, 0.49944383,\n",
       "         0.59276018, 0.66063348, 0.56228956, 0.59821429, 0.59821429,\n",
       "         0.45701357, 0.65277778, 0.53333333, 0.63292547, 0.55428571,\n",
       "         0.72850679, 0.62285714, 0.66517857, 0.6996663 , 0.6969697 ]),\n",
       "  12: array([0.74968072, 0.60664112, 0.57142857, 0.46360153, 0.5625    ,\n",
       "         0.67483871, 0.64102564, 0.44664032, 0.60664112, 0.64285714,\n",
       "         0.71282051, 0.5942029 , 0.71428571, 0.56923077, 0.5625    ,\n",
       "         0.64102564, 0.71282051, 0.67483871, 0.53512133, 0.42857143]),\n",
       "  13: array([0.5762963 , 0.57121439, 0.61538462, 0.62679426, 0.5762963 ,\n",
       "         0.52727273, 0.73037037, 0.69230769, 0.68484848, 0.46092504,\n",
       "         0.5125    , 0.76785714, 0.675     , 0.38461538, 0.65333333,\n",
       "         0.5762963 , 0.53571429, 0.69047619, 0.65333333, 0.56067588]),\n",
       "  14: array([0.41258741, 0.58041958, 0.65714286, 0.70782609, 0.53439153,\n",
       "         0.58041958, 0.62434783, 0.58041958, 0.55555556, 0.65714286,\n",
       "         0.58333333, 0.83216783, 0.74825175, 0.66433566, 0.78835979,\n",
       "         0.66433566, 0.4965035 , 0.70782609, 0.70782609, 0.53439153]),\n",
       "  15: array([0.45      , 0.81818182, 0.59006211, 0.77225673, 0.68115942,\n",
       "         0.62393162, 0.81196581, 0.86335404, 0.63636364, 0.54545455,\n",
       "         0.59006211, 0.725     , 0.71794872, 0.86335404, 0.59006211,\n",
       "         0.59006211, 0.725     , 0.63333333, 0.59006211, 0.63636364]),\n",
       "  16: array([0.64194373, 0.6       , 0.5959596 , 0.49494949, 0.64912281,\n",
       "         0.6875    , 0.74424552, 0.64194373, 0.62666667, 0.6969697 ,\n",
       "         0.64194373, 0.6969697 , 0.64912281, 0.74937343, 0.74937343,\n",
       "         0.64912281, 0.74424552, 0.6969697 , 0.5959596 , 0.5959596 ]),\n",
       "  17: array([0.6625    , 0.72136223, 0.4375    , 0.4375    , 0.6625    ,\n",
       "         0.72136223, 0.49845201, 0.72136223, 0.77777778, 0.72136223,\n",
       "         0.55      , 0.4375    , 0.60990712, 0.71428571, 0.6625    ,\n",
       "         0.49845201, 0.775     , 0.49845201, 0.775     , 0.71428571]),\n",
       "  18: array([0.56078431, 0.81176471, 0.5       , 0.61904762, 0.67611336,\n",
       "         0.56078431, 0.625     , 0.5       , 0.43529412, 0.41700405,\n",
       "         0.68627451, 0.74603175, 0.61904762, 0.875     , 0.75      ,\n",
       "         0.625     , 0.43529412, 0.61904762, 0.67611336, 0.68627451]),\n",
       "  19: array([0.71428571, 0.64102564, 0.4974359 , 0.57142857, 0.47593583,\n",
       "         0.47593583, 0.64102564, 0.41666667, 0.64102564, 0.70833333,\n",
       "         0.5625    , 0.77540107, 0.64102564, 0.70833333, 0.5625    ,\n",
       "         0.62566845, 0.64102564, 0.85416667, 0.64102564, 0.57142857]),\n",
       "  20: array([0.65714286, 0.58041958, 0.91608392, 0.65714286, 0.625     ,\n",
       "         0.58041958, 0.74825175, 0.74825175, 0.58041958, 0.65714286,\n",
       "         0.48571429, 0.4375    , 0.82857143, 0.66666667, 0.41258741,\n",
       "         0.5       , 0.74825175, 0.65714286, 0.65714286, 0.66666667]),\n",
       "  21: array([0.375     , 0.79166667, 0.6969697 , 0.79166667, 0.58333333,\n",
       "         0.6       , 0.6       , 0.52380952, 0.6969697 , 0.58333333,\n",
       "         0.8       , 0.58333333, 0.45054945, 0.8989899 , 0.49494949,\n",
       "         0.8989899 , 0.79166667, 0.4       , 0.49494949, 0.6969697 ]),\n",
       "  22: array([0.61904762, 0.87301587, 0.75      , 0.61904762, 0.61904762,\n",
       "         0.73333333, 0.61904762, 0.61904762, 0.46666667, 0.61904762,\n",
       "         0.33333333, 0.5       , 0.61904762, 0.73333333, 0.87301587,\n",
       "         0.61904762, 0.73333333, 0.46666667, 0.36507937, 0.61904762]),\n",
       "  23: array([0.82857143, 0.82857143, 0.82857143, 0.66666667, 0.625     ,\n",
       "         0.66666667, 0.33333333, 0.48571429, 0.14285714, 0.66666667,\n",
       "         0.33333333, 0.66666667, 0.625     , 0.82857143, 0.48571429,\n",
       "         0.66666667, 0.48571429, 0.82857143, 0.625     , 0.48571429]),\n",
       "  24: array([0.5       , 0.73333333, 0.73333333, 1.        , 0.73333333,\n",
       "         1.        , 0.33333333, 1.        , 0.73333333, 1.        ,\n",
       "         0.73333333, 0.73333333, 0.2       , 0.73333333, 0.2       ,\n",
       "         0.2       , 0.73333333, 0.73333333, 0.73333333, 0.33333333])}}"
      ]
     },
     "execution_count": 129,
     "metadata": {},
     "output_type": "execute_result"
    }
   ],
   "source": [
    "eval_results_alignment_v1"
   ]
  },
  {
   "cell_type": "code",
   "execution_count": 118,
   "metadata": {},
   "outputs": [
    {
     "name": "stdout",
     "output_type": "stream",
     "text": [
      "here\n"
     ]
    }
   ],
   "source": [
    "print('here')"
   ]
  },
  {
   "cell_type": "code",
   "execution_count": 55,
   "metadata": {},
   "outputs": [],
   "source": [
    "import matplotlib.pyplot as plt\n",
    "\n",
    "def create_plots(labels,eval_results_array,names,metric_label=\"Metric\",outfile=None):    \n",
    "    linestyles = ['-', '--', '-.', ':','-']\n",
    "\n",
    "    auc = {}\n",
    "    plt.figure()\n",
    "    #plt.title(label.replace(\"_\",\" \"))\n",
    "    plt.ylabel(metric_label)\n",
    "    plt.xlabel('Training Size')\n",
    "\n",
    "    for label in labels:\n",
    "        auc[label] = []\n",
    "        for i,eval_results in enumerate(eval_results_array):\n",
    "            auc[label].append({})\n",
    "            training_sizes = np.sort(list(eval_results[label].keys()))\n",
    "            means = []\n",
    "            sderrs = []\n",
    "            for sz in training_sizes:\n",
    "                means.append(np.mean(eval_results[label][sz]))                \n",
    "                sderrs.append(np.std(eval_results[label][sz])/np.sqrt(len(eval_results[label][sz])))\n",
    "\n",
    "            #plt.errorbar(training_sizes, means, yerr=sderrs, fmt='o')\n",
    "            try:\n",
    "                plt.plot(training_sizes, means, linestyle=linestyles[i])\n",
    "            except:\n",
    "                import pdb\n",
    "                pdb.set_trace()\n",
    "\n",
    "            lower_bound_means = np.array(means)-1.96*np.array(sderrs)\n",
    "            upper_bound_means = np.array(means)+1.96*np.array(sderrs)\n",
    "            auc[label][i][\"lower\"] = np.trapz(lower_bound_means,x=training_sizes*1./np.max(training_sizes))\n",
    "            auc[label][i][\"upper\"] = np.trapz(upper_bound_means,x=training_sizes*1./np.max(training_sizes))\n",
    "            auc[label][i][\"average\"] = (auc[label][i][\"lower\"]+auc[label][i][\"upper\"])/2.\n",
    "\n",
    "    plt.legend(names)\n",
    "    if outfile:\n",
    "        plt.savefig(outfile, bbox_inches='tight')\n",
    "\n",
    "    return auc\n"
   ]
  },
  {
   "cell_type": "code",
   "execution_count": 135,
   "metadata": {},
   "outputs": [],
   "source": [
    "names = [\"SVM\",\"RF\",\"Alignment\",\"Max\",\"Mean\"]\n",
    "statistics = [eval_results_svm,eval_results_rf,eval_results_alignment_v1,eval_results_max,eval_results_mean]"
   ]
  },
  {
   "cell_type": "code",
   "execution_count": 136,
   "metadata": {},
   "outputs": [
    {
     "data": {
      "image/png": "[encoded data removed]",
      "text/plain": [
       "<Figure size 432x288 with 1 Axes>"
      ]
     },
     "metadata": {},
     "output_type": "display_data"
    }
   ],
   "source": [
    "auc = create_plots(['tweets'],statistics,names,metric_label=\"F1\")"
   ]
  },
  {
   "cell_type": "code",
   "execution_count": 130,
   "metadata": {},
   "outputs": [
    {
     "data": {
      "text/plain": [
       "{'tweets': {2: array([0.66137566, 0.54459203, 0.60261438, 0.64567955, 0.55299335,\n",
       "         0.46784922, 0.33063428, 0.33063428, 0.56231003, 0.56231003,\n",
       "         0.58041958, 0.58222629, 0.42527716, 0.50337382, 0.45351044,\n",
       "         0.64444444, 0.51042129, 0.58222629, 0.58041958, 0.52857143]),\n",
       "  3: array([0.66618287, 0.64132554, 0.64615385, 0.52530713, 0.45626478,\n",
       "         0.51809524, 0.60571429, 0.4619883 , 0.64952381, 0.73461538,\n",
       "         0.65151515, 0.55110426, 0.67252017, 0.67001435, 0.4565999 ,\n",
       "         0.60192308, 0.50682261, 0.64132554, 0.62677485, 0.53794643]),\n",
       "  4: array([0.61183186, 0.47276688, 0.4989648 , 0.51648352, 0.74883238,\n",
       "         0.49425287, 0.56282876, 0.47700258, 0.62947368, 0.63561077,\n",
       "         0.63561077, 0.58787879, 0.61343669, 0.52248062, 0.58315789,\n",
       "         0.53939394, 0.49052632, 0.61426067, 0.63333333, 0.54166667]),\n",
       "  5: array([0.68602645, 0.62566845, 0.57045455, 0.61111111, 0.61556064,\n",
       "         0.45207033, 0.59500851, 0.43673469, 0.58941921, 0.58941921,\n",
       "         0.61904762, 0.54529915, 0.48148148, 0.65768025, 0.57575758,\n",
       "         0.69030062, 0.58941921, 0.61556064, 0.5194508 , 0.47619048]),\n",
       "  6: array([0.47916667, 0.57259585, 0.64912281, 0.56825397, 0.56157318,\n",
       "         0.55      , 0.53125   , 0.59079284, 0.37795808, 0.52480783,\n",
       "         0.59432049, 0.59899749, 0.65      , 0.57259585, 0.56157318,\n",
       "         0.64194373, 0.55      , 0.65      , 0.50999355, 0.74937343]),\n",
       "  7: array([0.59139785, 0.54982578, 0.54761905, 0.56818182, 0.65574913,\n",
       "         0.6049896 , 0.58180484, 0.55232155, 0.78947368, 0.73684211,\n",
       "         0.57777778, 0.52631579, 0.68067227, 0.65186751, 0.61449275,\n",
       "         0.57894737, 0.52604549, 0.46022727, 0.58180484, 0.57894737]),\n",
       "  8: array([0.42857143, 0.51848938, 0.57513769, 0.37142857, 0.6625    ,\n",
       "         0.52741313, 0.60990712, 0.54285714, 0.68243785, 0.74508261,\n",
       "         0.55417957, 0.60625   , 0.56696071, 0.6       , 0.55555556,\n",
       "         0.52447552, 0.57859532, 0.62469928, 0.6       , 0.53246753]),\n",
       "  9: array([0.41176471, 0.61731602, 0.55536181, 0.51428571, 0.46315789,\n",
       "         0.67619048, 0.6091954 , 0.58823529, 0.58680556, 0.58245614,\n",
       "         0.66214995, 0.61731602, 0.575     , 0.67619048, 0.66931919,\n",
       "         0.64210526, 0.49607672, 0.61731602, 0.58883721, 0.52280702]),\n",
       "  10: array([0.59014778, 0.58358358, 0.625     , 0.59014778, 0.68627451,\n",
       "         0.48178138, 0.53079179, 0.46403941, 0.57333333, 0.71847507,\n",
       "         0.64764765, 0.5       , 0.68627451, 0.53079179, 0.625     ,\n",
       "         0.5625    , 0.46666667, 0.49803922, 0.56078431, 0.59014778]),\n",
       "  11: array([0.52488688, 0.66517857, 0.66517857, 0.49944383, 0.49944383,\n",
       "         0.59276018, 0.66063348, 0.56228956, 0.59821429, 0.59821429,\n",
       "         0.45701357, 0.65277778, 0.53333333, 0.63292547, 0.55428571,\n",
       "         0.72850679, 0.62285714, 0.66517857, 0.6996663 , 0.6969697 ]),\n",
       "  12: array([0.74968072, 0.60664112, 0.57142857, 0.46360153, 0.5625    ,\n",
       "         0.67483871, 0.64102564, 0.44664032, 0.60664112, 0.64285714,\n",
       "         0.71282051, 0.5942029 , 0.71428571, 0.56923077, 0.5625    ,\n",
       "         0.64102564, 0.71282051, 0.67483871, 0.53512133, 0.42857143]),\n",
       "  13: array([0.5762963 , 0.57121439, 0.61538462, 0.62679426, 0.5762963 ,\n",
       "         0.52727273, 0.73037037, 0.69230769, 0.68484848, 0.46092504,\n",
       "         0.5125    , 0.76785714, 0.675     , 0.38461538, 0.65333333,\n",
       "         0.5762963 , 0.53571429, 0.69047619, 0.65333333, 0.56067588]),\n",
       "  14: array([0.41258741, 0.58041958, 0.65714286, 0.70782609, 0.53439153,\n",
       "         0.58041958, 0.62434783, 0.58041958, 0.55555556, 0.65714286,\n",
       "         0.58333333, 0.83216783, 0.74825175, 0.66433566, 0.78835979,\n",
       "         0.66433566, 0.4965035 , 0.70782609, 0.70782609, 0.53439153]),\n",
       "  15: array([0.45      , 0.81818182, 0.59006211, 0.77225673, 0.68115942,\n",
       "         0.62393162, 0.81196581, 0.86335404, 0.63636364, 0.54545455,\n",
       "         0.59006211, 0.725     , 0.71794872, 0.86335404, 0.59006211,\n",
       "         0.59006211, 0.725     , 0.63333333, 0.59006211, 0.63636364]),\n",
       "  16: array([0.64194373, 0.6       , 0.5959596 , 0.49494949, 0.64912281,\n",
       "         0.6875    , 0.74424552, 0.64194373, 0.62666667, 0.6969697 ,\n",
       "         0.64194373, 0.6969697 , 0.64912281, 0.74937343, 0.74937343,\n",
       "         0.64912281, 0.74424552, 0.6969697 , 0.5959596 , 0.5959596 ]),\n",
       "  17: array([0.6625    , 0.72136223, 0.4375    , 0.4375    , 0.6625    ,\n",
       "         0.72136223, 0.49845201, 0.72136223, 0.77777778, 0.72136223,\n",
       "         0.55      , 0.4375    , 0.60990712, 0.71428571, 0.6625    ,\n",
       "         0.49845201, 0.775     , 0.49845201, 0.775     , 0.71428571]),\n",
       "  18: array([0.56078431, 0.81176471, 0.5       , 0.61904762, 0.67611336,\n",
       "         0.56078431, 0.625     , 0.5       , 0.43529412, 0.41700405,\n",
       "         0.68627451, 0.74603175, 0.61904762, 0.875     , 0.75      ,\n",
       "         0.625     , 0.43529412, 0.61904762, 0.67611336, 0.68627451]),\n",
       "  19: array([0.71428571, 0.64102564, 0.4974359 , 0.57142857, 0.47593583,\n",
       "         0.47593583, 0.64102564, 0.41666667, 0.64102564, 0.70833333,\n",
       "         0.5625    , 0.77540107, 0.64102564, 0.70833333, 0.5625    ,\n",
       "         0.62566845, 0.64102564, 0.85416667, 0.64102564, 0.57142857]),\n",
       "  20: array([0.65714286, 0.58041958, 0.91608392, 0.65714286, 0.625     ,\n",
       "         0.58041958, 0.74825175, 0.74825175, 0.58041958, 0.65714286,\n",
       "         0.48571429, 0.4375    , 0.82857143, 0.66666667, 0.41258741,\n",
       "         0.5       , 0.74825175, 0.65714286, 0.65714286, 0.66666667]),\n",
       "  21: array([0.375     , 0.79166667, 0.6969697 , 0.79166667, 0.58333333,\n",
       "         0.6       , 0.6       , 0.52380952, 0.6969697 , 0.58333333,\n",
       "         0.8       , 0.58333333, 0.45054945, 0.8989899 , 0.49494949,\n",
       "         0.8989899 , 0.79166667, 0.4       , 0.49494949, 0.6969697 ]),\n",
       "  22: array([0.61904762, 0.87301587, 0.75      , 0.61904762, 0.61904762,\n",
       "         0.73333333, 0.61904762, 0.61904762, 0.46666667, 0.61904762,\n",
       "         0.33333333, 0.5       , 0.61904762, 0.73333333, 0.87301587,\n",
       "         0.61904762, 0.73333333, 0.46666667, 0.36507937, 0.61904762]),\n",
       "  23: array([0.82857143, 0.82857143, 0.82857143, 0.66666667, 0.625     ,\n",
       "         0.66666667, 0.33333333, 0.48571429, 0.14285714, 0.66666667,\n",
       "         0.33333333, 0.66666667, 0.625     , 0.82857143, 0.48571429,\n",
       "         0.66666667, 0.48571429, 0.82857143, 0.625     , 0.48571429]),\n",
       "  24: array([0.5       , 0.73333333, 0.73333333, 1.        , 0.73333333,\n",
       "         1.        , 0.33333333, 1.        , 0.73333333, 1.        ,\n",
       "         0.73333333, 0.73333333, 0.2       , 0.73333333, 0.2       ,\n",
       "         0.2       , 0.73333333, 0.73333333, 0.73333333, 0.33333333])}}"
      ]
     },
     "execution_count": 130,
     "metadata": {},
     "output_type": "execute_result"
    }
   ],
   "source": [
    "eval_results_alignment_v1"
   ]
  },
  {
   "cell_type": "code",
   "execution_count": 22,
   "metadata": {},
   "outputs": [
    {
     "data": {
      "image/png": "[encoded data removed]",
      "text/plain": [
       "<matplotlib.figure.Figure at 0x229852cce80>"
      ]
     },
     "metadata": {},
     "output_type": "display_data"
    }
   ],
   "source": [
    "N = 0\n",
    "labels = []\n",
    "F1_scores = []\n",
    "for label, value in auc.items():\n",
    "    N = N + 1\n",
    "    labels.append(label)\n",
    "    F1_scores.append(-1.*auc[label][3][\"average\"])\n",
    "\n",
    "inxs = np.argsort(F1_scores)\n",
    "labels = list(np.array(labels)[inxs])\n",
    "        \n",
    "ind = np.arange(N)  # the x locations for the groups\n",
    "width = 0.3       # the width of the bars\n",
    "\n",
    "fig, ax = plt.subplots(figsize=(8, 5))\n",
    "\n",
    "rects = []\n",
    "colors = [\"r\",\"b\",\"g\",\"y\",\"c\"]            \n",
    "for i in range(len(names)):\n",
    "    means = []\n",
    "    errors = []\n",
    "    for label in labels:\n",
    "        lower = np.round(100*auc[label][i][\"lower\"])/100\n",
    "        upper = np.round(100*auc[label][i][\"upper\"])/100\n",
    "        average = np.round(100*auc[label][i][\"average\"])/100\n",
    "        means.append(average)\n",
    "        errors.append(upper-average)\n",
    "    \n",
    "    rects.append(ax.barh(ind + width*(i-1), means,width, color=colors[i], xerr=errors))\n",
    "\n",
    "# add some text for labels, title and axes ticks\n",
    "ax.set_xlabel('F1')\n",
    "#ax.set_title('Scores by group and gender')\n",
    "ax.set_yticks(ind + width / len(names))\n",
    "ax.set_yticklabels(labels)\n",
    "\n",
    "legend_ref = []\n",
    "for rect in rects:\n",
    "    legend_ref.append(rect[0])\n",
    "ax.legend(legend_ref, names)\n",
    "\n",
    "\n",
    "def autolabel(rects):\n",
    "    \"\"\"\n",
    "    Attach a text label above each bar displaying its height\n",
    "    \"\"\"\n",
    "    for rect in rects:\n",
    "        height = rect.get_height()\n",
    "        ax.text(rect.get_x() + rect.get_width()/2., 1.05*height,\n",
    "                '%d' % int(height),\n",
    "                ha='center', va='bottom')\n",
    "\n",
    "#autolabel(rects1)\n",
    "#autolabel(rects2)\n",
    "\n",
    "plt.savefig('results/f1_images/histogram.png', bbox_inches='tight')\n",
    "plt.show()\n"
   ]
  },
  {
   "cell_type": "markdown",
   "metadata": {},
   "source": [
    "### Code to generate the latex table"
   ]
  },
  {
   "cell_type": "code",
   "execution_count": 23,
   "metadata": {},
   "outputs": [
    {
     "name": "stdout",
     "output_type": "stream",
     "text": [
      "Category & \\# Samples & Naive Bayes & SVM & Alignment v1 (Tweet) & Alignment v2 (Tweets) \\\\ \\hline\n",
      "tweets & 25 & 0.68 - 0.76 & 0.63 - 0.73 & 0.08 - 0.18 & 0.6 - 0.7\\\\\n"
     ]
    }
   ],
   "source": [
    "first = True\n",
    "for label in labels:\n",
    "        if first:\n",
    "            print(\"Category\",end=\"\")\n",
    "            print(\" & \",end=\"\")\n",
    "            print(\"\\# Samples\",end=\"\")\n",
    "            for i in range(len(names)):\n",
    "                print(\" & \",end=\"\")\n",
    "                print(names[i],end=\"\")\n",
    "            print(\" \\\\\\\\ \\hline\")\n",
    "            first = False\n",
    "\n",
    "        plabel = label.replace(\"_\",\" \")\n",
    "        plabel = plabel.replace(\"NeighborhoodArea \",\"\")\n",
    "        plabel = plabel.replace(\"Interior \",\"\")\n",
    "        plabel = plabel.replace(\"PropertyLot \",\"\")\n",
    "        plabel = plabel.replace(\"Community \",\"\")\n",
    "        print(plabel,end=\"\")\n",
    "        print(\" & \",end=\"\")\n",
    "        print(len(statistics[0][label].keys()),end=\"\")\n",
    "        for i in range(len(names)):\n",
    "            print(\" & \",end=\"\")\n",
    "            lower = np.round(100*auc[label][i][\"lower\"])/100\n",
    "            upper = np.round(100*auc[label][i][\"upper\"])/100\n",
    "            print(str(lower)+\" - \"+str(upper),end=\"\")\n",
    "        \n",
    "        print(\"\\\\\\\\\")"
   ]
  },
  {
   "cell_type": "code",
   "execution_count": null,
   "metadata": {},
   "outputs": [],
   "source": []
  }
 ],
 "metadata": {
  "kernelspec": {
   "display_name": "Python 3.6",
   "language": "python",
   "name": "python3.6"
  },
  "language_info": {
   "codemirror_mode": {
    "name": "ipython",
    "version": 3
   },
   "file_extension": ".py",
   "mimetype": "text/x-python",
   "name": "python",
   "nbconvert_exporter": "python",
   "pygments_lexer": "ipython3",
   "version": "3.6.5"
  }
 },
 "nbformat": 4,
 "nbformat_minor": 2
}
