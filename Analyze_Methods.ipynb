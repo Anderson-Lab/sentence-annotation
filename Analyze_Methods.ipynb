{
 "cells": [
  {
   "cell_type": "markdown",
   "metadata": {},
   "source": [
    "# Analyze Methods\n",
    "This notebook demonstrates how to train and evaluate the classifiers for sentence-level target identification."
   ]
  },
  {
   "cell_type": "code",
   "execution_count": 2,
   "metadata": {},
   "outputs": [],
   "source": [
    "%matplotlib inline\n",
    "%load_ext autoreload\n",
    "%autoreload 2"
   ]
  },
  {
   "cell_type": "code",
   "execution_count": 3,
   "metadata": {},
   "outputs": [],
   "source": [
    "import numpy as np\n",
    "import os\n",
    "import pickle\n",
    "import gensim"
   ]
  },
  {
   "cell_type": "code",
   "execution_count": 8,
   "metadata": {},
   "outputs": [],
   "source": [
    "# Set this to true if you want to load the pickle files\n",
    "LOAD_PREV_EVAL=False"
   ]
  },
  {
   "cell_type": "markdown",
   "metadata": {},
   "source": [
    "## Below are all of the local imports"
   ]
  },
  {
   "cell_type": "code",
   "execution_count": 4,
   "metadata": {},
   "outputs": [],
   "source": [
    "import sys\n",
    "sys.path.append(\"..\")"
   ]
  },
  {
   "cell_type": "code",
   "execution_count": 5,
   "metadata": {},
   "outputs": [],
   "source": [
    "import sentence_annotation"
   ]
  },
  {
   "cell_type": "code",
   "execution_count": 6,
   "metadata": {},
   "outputs": [],
   "source": [
    "import evaluate_code\n",
    "import standard_methods\n",
    "import novel_methods"
   ]
  },
  {
   "cell_type": "markdown",
   "metadata": {},
   "source": [
    "## Load the word2vec models"
   ]
  },
  {
   "cell_type": "markdown",
   "metadata": {},
   "source": [
    "In order to run this notebook, you must download the pre-trained word2vec model, which is available for download at:\n",
    "http://yuca.test.iminds.be:8900/fgodin/downloads/word2vec_twitter_model.tar.gz"
   ]
  },
  {
   "cell_type": "code",
   "execution_count": 10,
   "metadata": {},
   "outputs": [],
   "source": [
    "import word2vec\n",
    "import word2vecReader\n",
    "\n",
    "# The location of the .bin file is specific to where you downloaded the file (of course)\n",
    "w2v_tweets = word2vecReader.Word2Vec.load_word2vec_format(\"/mnt/bd2/word2vec_twitter_model/word2vec_twitter_model.bin\",binary=True)"
   ]
  },
  {
   "cell_type": "code",
   "execution_count": 19,
   "metadata": {},
   "outputs": [
    {
     "name": "stdout",
     "output_type": "stream",
     "text": [
      "Evaluating tweets\n",
      "52 2\n",
      "52 4\n",
      "52 6\n",
      "52 8\n",
      "52 10\n",
      "52 12\n",
      "52 14\n",
      "52 16\n",
      "52 18\n",
      "52 20\n",
      "52 22\n",
      "52 24\n",
      "52 26\n",
      "52 28\n",
      "52 30\n",
      "52 32\n",
      "52 34\n",
      "52 36\n",
      "52 38\n",
      "52 40\n",
      "52 42\n",
      "52 44\n",
      "52 46\n",
      "52 48\n",
      "52 50\n"
     ]
    }
   ],
   "source": [
    "import warnings\n",
    "with warnings.catch_warnings():\n",
    "    warnings.simplefilter(\"ignore\")\n",
    "    eval_results = evaluate_code.evaluate_method(evaluate_code.create_pipeline_bow_rf(),training_data_dir=\"training_data\")"
   ]
  },
  {
   "cell_type": "code",
   "execution_count": 20,
   "metadata": {},
   "outputs": [
    {
     "data": {
      "text/plain": [
       "{'tweets': {1: array([0.33333333, 0.33333333, 0.33333333, 0.33333333, 0.33333333,\n",
       "         0.33333333, 0.33333333, 0.33333333, 0.32432432, 0.33333333,\n",
       "         0.4047619 , 0.33333333, 0.33333333, 0.33333333, 0.33333333,\n",
       "         0.5       , 0.39290918, 0.33333333, 0.33333333, 0.33333333]),\n",
       "  2: array([0.33333333, 0.32394366, 0.41978022, 0.44537815, 0.49427393,\n",
       "         0.6       , 0.33333333, 0.36703297, 0.33333333, 0.44537815,\n",
       "         0.33333333, 0.55770075, 0.43180648, 0.46784922, 0.40740741,\n",
       "         0.33333333, 0.37802817, 0.42222222, 0.33333333, 0.33333333]),\n",
       "  3: array([0.37990196, 0.52083333, 0.397151  , 0.59649123, 0.52083333,\n",
       "         0.44957265, 0.44957265, 0.59649123, 0.42328358, 0.48009828,\n",
       "         0.55769231, 0.33333333, 0.51809524, 0.43526786, 0.56190476,\n",
       "         0.44957265, 0.42090859, 0.53265602, 0.42328358, 0.494022  ]),\n",
       "  4: array([0.5954023 , 0.47276688, 0.44242424, 0.54482759, 0.45454545,\n",
       "         0.32767402, 0.6574987 , 0.33333333, 0.39310345, 0.45454545,\n",
       "         0.46920635, 0.3125    , 0.56795866, 0.42380952, 0.33333333,\n",
       "         0.3819398 , 0.53684211, 0.64597701, 0.47700258, 0.35746032]),\n",
       "  5: array([0.4020339 , 0.42334096, 0.64663462, 0.34508475, 0.625     ,\n",
       "         0.45898305, 0.42602496, 0.42690058, 0.40705882, 0.35714286,\n",
       "         0.33156499, 0.58941921, 0.54529915, 0.43673469, 0.45898305,\n",
       "         0.5143031 , 0.44297082, 0.5194508 , 0.45898305, 0.61818182]),\n",
       "  6: array([0.46890287, 0.49967084, 0.24242424, 0.34167215, 0.52480783,\n",
       "         0.64912281, 0.52470294, 0.54887218, 0.33333333, 0.52380952,\n",
       "         0.44727273, 0.56157318, 0.54887218, 0.59432049, 0.47916667,\n",
       "         0.45054945, 0.56157318, 0.46666667, 0.63541667, 0.54545455]),\n",
       "  7: array([0.40625   , 0.36666667, 0.53691756, 0.35692308, 0.42424242,\n",
       "         0.36134454, 0.569161  , 0.525     , 0.47222222, 0.47222222,\n",
       "         0.57777778, 0.38928571, 0.39094077, 0.37489177, 0.59830867,\n",
       "         0.5210084 , 0.57777778, 0.6375642 , 0.33333333, 0.73684211]),\n",
       "  8: array([0.45696539, 0.44615385, 0.60625   , 0.4375    , 0.51848938,\n",
       "         0.62469928, 0.54042553, 0.43703704, 0.5625    , 0.56696071,\n",
       "         0.33333333, 0.52085182, 0.45696539, 0.631786  , 0.64935065,\n",
       "         0.49579832, 0.45819398, 0.63861004, 0.39225422, 0.30769231]),\n",
       "  9: array([0.40972222, 0.55536181, 0.69642857, 0.46245059, 0.45220193,\n",
       "         0.30612245, 0.45220193, 0.39555556, 0.39555556, 0.58245614,\n",
       "         0.56410256, 0.46315789, 0.4995671 , 0.52964427, 0.45220193,\n",
       "         0.61731602, 0.35501355, 0.53929539, 0.30612245, 0.575     ]),\n",
       "  10: array([0.53333333, 0.61133603, 0.6875    , 0.55555556, 0.71625616,\n",
       "         0.5393134 , 0.53333333, 0.59014778, 0.5465587 , 0.41818182,\n",
       "         0.43859649, 0.43859649, 0.56078431, 0.74089069, 0.74603175,\n",
       "         0.49090909, 0.35222672, 0.41700405, 0.53079179, 0.81176471]),\n",
       "  11: array([0.49944383, 0.45701357, 0.66063348, 0.56228956, 0.6996663 ,\n",
       "         0.56618465, 0.56618465, 0.56618465, 0.48571429, 0.475     ,\n",
       "         0.63292547, 0.5970696 , 0.49494949, 0.57637997, 0.52380952,\n",
       "         0.59821429, 0.49760766, 0.59276018, 0.56228956, 0.40340909]),\n",
       "  12: array([0.64102564, 0.53032258, 0.53512133, 0.74968072, 0.5942029 ,\n",
       "         0.3875    , 0.74176548, 0.40106952, 0.56187767, 0.60258065,\n",
       "         0.4974359 , 0.66798419, 0.55080214, 0.60664112, 0.38580645,\n",
       "         0.42690058, 0.50877193, 0.68888889, 0.67816092, 0.5047619 ]),\n",
       "  13: array([0.64917541, 0.5125    , 0.26875   , 0.69230769, 0.62679426,\n",
       "         0.68484848, 0.45833333, 0.62679426, 0.49325337, 0.5762963 ,\n",
       "         0.49019608, 0.49925926, 0.69047619, 0.36969697, 0.62679426,\n",
       "         0.52727273, 0.53571429, 0.5125    , 0.42222222, 0.53571429]),\n",
       "  14: array([0.40796964, 0.44973545, 0.49905123, 0.49579832, 0.60798548,\n",
       "         0.73333333, 0.62434783, 0.53125   , 0.60798548, 0.4965035 ,\n",
       "         0.61904762, 0.41978022, 0.74825175, 0.625     , 0.49579832,\n",
       "         0.54086957, 0.58041958, 0.49905123, 0.55555556, 0.55555556]),\n",
       "  15: array([0.56862745, 0.49052632, 0.54545455, 0.58315789, 0.59006211,\n",
       "         0.56862745, 0.66448802, 0.64597701, 0.54166667, 0.58315789,\n",
       "         0.44367816, 0.71794872, 0.50892857, 0.58315789, 0.4989648 ,\n",
       "         0.63333333, 0.39950372, 0.62393162, 0.50892857, 0.58315789]),\n",
       "  16: array([0.43734015, 0.33503836, 0.47916667, 0.62666667, 0.6875    ,\n",
       "         0.64912281, 0.5959596 , 0.74937343, 0.6       , 0.64194373,\n",
       "         0.7979798 , 0.44862155, 0.53964194, 0.64194373, 0.56043956,\n",
       "         0.62666667, 0.74424552, 0.52      , 0.54887218, 0.6       ]),\n",
       "  17: array([0.69899666, 0.60990712, 0.53246753, 0.72136223, 0.72136223,\n",
       "         0.66666667, 0.64935065, 0.6       , 0.60990712, 0.6625    ,\n",
       "         0.6625    , 0.775     , 0.6       , 0.54181818, 0.57859532,\n",
       "         0.53246753, 0.48571429, 0.5       , 0.775     , 0.60990712]),\n",
       "  18: array([0.61904762, 0.56363636, 0.61904762, 0.67611336, 0.56078431,\n",
       "         0.51515152, 0.4589372 , 0.41700405, 0.30434783, 0.6       ,\n",
       "         0.74603175, 0.61904762, 0.56078431, 0.37662338, 0.61904762,\n",
       "         0.625     , 0.68627451, 0.61904762, 0.625     , 0.5465587 ]),\n",
       "  19: array([0.71428571, 0.62566845, 0.78461538, 0.70833333, 0.78461538,\n",
       "         0.78461538, 0.47593583, 0.62566845, 0.4974359 , 0.37777778,\n",
       "         0.70833333, 0.64102564, 0.85416667, 0.53333333, 0.62566845,\n",
       "         0.78461538, 0.47593583, 0.4974359 , 0.68888889, 0.64102564]),\n",
       "  20: array([0.58041958, 0.66666667, 0.625     , 0.82857143, 0.73333333,\n",
       "         0.48571429, 0.66666667, 0.37777778, 0.66666667, 0.41258741,\n",
       "         0.74825175, 0.74825175, 0.83333333, 0.74825175, 0.48571429,\n",
       "         0.58041958, 0.55555556, 0.82857143, 0.5       , 0.55555556]),\n",
       "  21: array([0.23076923, 0.67032967, 0.67032967, 0.79166667, 0.6969697 ,\n",
       "         0.6969697 , 0.6       , 0.45054945, 0.45054945, 0.6969697 ,\n",
       "         0.8989899 , 0.45054945, 0.6969697 , 0.8       , 0.8989899 ,\n",
       "         0.52380952, 0.79166667, 0.49494949, 0.67032967, 0.6       ]),\n",
       "  22: array([0.61904762, 0.61904762, 0.46666667, 0.61904762, 0.56363636,\n",
       "         0.46666667, 0.46666667, 0.61904762, 0.73333333, 0.56363636,\n",
       "         0.2       , 0.61904762, 0.73333333, 0.73333333, 0.61904762,\n",
       "         0.75      , 0.75      , 0.36507937, 0.75      , 0.75      ]),\n",
       "  23: array([0.48571429, 0.48571429, 0.625     , 0.82857143, 0.66666667,\n",
       "         0.48571429, 0.66666667, 0.82857143, 0.48571429, 0.66666667,\n",
       "         0.33333333, 0.66666667, 0.48571429, 1.        , 0.66666667,\n",
       "         0.82857143, 0.625     , 0.33333333, 0.33333333, 0.48571429]),\n",
       "  24: array([0.73333333, 0.33333333, 0.73333333, 0.5       , 0.73333333,\n",
       "         0.73333333, 0.73333333, 1.        , 0.5       , 0.2       ,\n",
       "         1.        , 0.5       , 0.73333333, 1.        , 0.73333333,\n",
       "         0.73333333, 0.73333333, 0.33333333, 0.2       , 0.2       ]),\n",
       "  25: array([1.        , 1.        , 0.33333333, 1.        , 0.33333333,\n",
       "         0.33333333, 0.33333333, 0.33333333, 1.        , 1.        ,\n",
       "         0.33333333, 0.33333333, 1.        , 0.33333333, 1.        ,\n",
       "         0.        , 1.        , 1.        , 1.        , 0.33333333])}}"
      ]
     },
     "execution_count": 20,
     "metadata": {},
     "output_type": "execute_result"
    }
   ],
   "source": [
    "eval_results"
   ]
  },
  {
   "cell_type": "code",
   "execution_count": 11,
   "metadata": {},
   "outputs": [
    {
     "name": "stdout",
     "output_type": "stream",
     "text": [
      "Evaluating tweets\n"
     ]
    }
   ],
   "source": [
    "if not LOAD_PREV_EVAL:              \n",
    "    alignment_v2_tweets = lambda w,x,y,z: novel_methods.alignment_v2(w2v_tweets,w,x,y,z)\n",
    "    alignment_v2_tweets_prediction_record = evaluate_code.evaluate_method(alignment_v2_tweets,alignment_flag=True)\n",
    "    open(\"results/alignment_v2_tweets_prediction_record.pkl\",\"wb\").write(pickle.dumps(alignment_v2_tweets_prediction_record))\n"
   ]
  },
  {
   "cell_type": "code",
   "execution_count": 12,
   "metadata": {},
   "outputs": [
    {
     "name": "stdout",
     "output_type": "stream",
     "text": [
      "Evaluating tweets\n"
     ]
    }
   ],
   "source": [
    "if not LOAD_PREV_EVAL:              \n",
    "    threshold = 0.8\n",
    "    alignment_v1_tweets = lambda w,x,y,z: novel_methods.alignment_v1(w2v_tweets,threshold,w,x,y,z)\n",
    "    alignment_v1_tweets_prediction_record = evaluate_code.evaluate_method(alignment_v1_tweets,alignment_flag=True)\n",
    "    open(\"results/alignment_v1_tweets_prediction_record.pkl\",\"wb\").write(pickle.dumps(alignment_v1_tweets_prediction_record))\n",
    "else:\n",
    "    alignment_v1_tweets_prediction_record = pickle.load(open(\"results/alignment_v1_tweets_prediction_record.pkl\",\"rb\"))\n",
    "   "
   ]
  },
  {
   "cell_type": "code",
   "execution_count": 13,
   "metadata": {},
   "outputs": [
    {
     "name": "stdout",
     "output_type": "stream",
     "text": [
      "Evaluating tweets\n"
     ]
    }
   ],
   "source": [
    "if not LOAD_PREV_EVAL:\n",
    "    svm_v1_prediction_record = evaluate_code.evaluate_method(standard_methods.svm_v1)\n",
    "    open(\"results/svm_v1_prediction_record.pkl\",\"wb\").write(pickle.dumps(svm_v1_prediction_record))\n",
    "else:\n",
    "    svm_v1_prediction_record = pickle.load(open(\"results/svm_v1_prediction_record.pkl\",\"rb\"))"
   ]
  },
  {
   "cell_type": "code",
   "execution_count": 14,
   "metadata": {},
   "outputs": [
    {
     "name": "stdout",
     "output_type": "stream",
     "text": [
      "Evaluating tweets\n"
     ]
    }
   ],
   "source": [
    "if not LOAD_PREV_EVAL:\n",
    "    bag_of_words_nb_prediction_record = evaluate_code.evaluate_method(standard_methods.bag_of_words_nb)\n",
    "    open(\"results/bag_of_words_nb_prediction_record_tweets.pkl\",\"wb\").write(pickle.dumps(bag_of_words_nb_prediction_record))\n",
    "else:\n",
    "    bag_of_words_nb_prediction_record = pickle.load(open(\"results/bag_of_words_nb_prediction_record_tweets.pkl\",\"rb\"))"
   ]
  },
  {
   "cell_type": "code",
   "execution_count": 15,
   "metadata": {},
   "outputs": [],
   "source": [
    "from sklearn.metrics import f1_score\n",
    "\n",
    "def calc_statistics(prediction_record):\n",
    "    statistics = {}\n",
    "    for label, value in prediction_record.items():\n",
    "        statistics[label] = {}\n",
    "        training_sizes = np.sort(list(prediction_record[label].keys()))        \n",
    "        for training_size in training_sizes:\n",
    "            statistics[label][training_size] = {}\n",
    "            iterations = list(prediction_record[label][training_size].values())\n",
    "            statistics[label][training_size][\"accuracy\"] = np.zeros(len(iterations),)\n",
    "            statistics[label][training_size][\"f1_score\"] = np.zeros(len(iterations),)\n",
    "            for it in range(len(iterations)):\n",
    "                y_true = np.round(prediction_record[label][training_size][it][\"testing_labels\"])\n",
    "                y_pred = np.round(prediction_record[label][training_size][it][\"testing_pred_labels\"])\n",
    "                statistics[label][training_size][\"accuracy\"][it] = np.sum(y_pred == y_true)*1.0/len(y_true)\n",
    "                statistics[label][training_size][\"f1_score\"][it] = f1_score(y_true,y_pred)\n",
    "    return statistics"
   ]
  },
  {
   "cell_type": "code",
   "execution_count": 16,
   "metadata": {},
   "outputs": [
    {
     "name": "stderr",
     "output_type": "stream",
     "text": [
      "c:\\users\\paule\\anaconda3\\lib\\site-packages\\sklearn\\metrics\\classification.py:1135: UndefinedMetricWarning: F-score is ill-defined and being set to 0.0 due to no predicted samples.\n",
      "  'precision', 'predicted', average, warn_for)\n"
     ]
    }
   ],
   "source": [
    "bag_of_words_nb_statistics = calc_statistics(bag_of_words_nb_prediction_record)\n",
    "alignment_v1_tweets_statistics = calc_statistics(alignment_v1_tweets_prediction_record)\n",
    "svm_v1_statistics = calc_statistics(svm_v1_prediction_record)\n",
    "alignment_v2_tweets_statistics = calc_statistics(alignment_v2_tweets_prediction_record)\n"
   ]
  },
  {
   "cell_type": "code",
   "execution_count": 17,
   "metadata": {},
   "outputs": [],
   "source": [
    "import matplotlib.pyplot as plt\n",
    "\n",
    "def create_plots(prediction_statistics_array,names,metric=\"accuracy\"):    \n",
    "    linestyles = ['-', '--', '-.', ':','-']\n",
    "\n",
    "    auc = {}\n",
    "    for label, value in prediction_statistics_array[0].items():\n",
    "        auc[label] = []\n",
    "        plt.figure()\n",
    "        #plt.title(label.replace(\"_\",\" \"))\n",
    "        if metric == \"accuracy\":\n",
    "            plt.ylabel('Accuracy')\n",
    "        if metric == \"f1_score\":\n",
    "            plt.ylabel('F1')            \n",
    "        plt.xlabel('Training Size')\n",
    "\n",
    "        for i in range(len(prediction_statistics_array)):\n",
    "            auc[label].append({})\n",
    "            prediction_statistics = prediction_statistics_array[i]\n",
    "            training_sizes = np.sort(list(prediction_statistics[label].keys()))\n",
    "            means = []\n",
    "            sderrs = []\n",
    "            for sz in training_sizes:\n",
    "                means.append(np.mean(prediction_statistics[label][sz][metric]))                \n",
    "                sderrs.append(np.std(prediction_statistics[label][sz][metric])/np.sqrt(len(prediction_statistics[label][sz][metric])))\n",
    "\n",
    "            #plt.errorbar(training_sizes, means, yerr=sderrs, fmt='o')\n",
    "            try:\n",
    "                plt.plot(training_sizes, means, linestyle=linestyles[i])\n",
    "            except:\n",
    "                import pdb\n",
    "                pdb.set_trace()\n",
    "                print('here')\n",
    "                        \n",
    "            lower_bound_means = np.array(means)-1.96*np.array(sderrs)\n",
    "            upper_bound_means = np.array(means)+1.96*np.array(sderrs)\n",
    "            auc[label][i][\"lower\"] = np.trapz(lower_bound_means,x=training_sizes*1./np.max(training_sizes))\n",
    "            auc[label][i][\"upper\"] = np.trapz(upper_bound_means,x=training_sizes*1./np.max(training_sizes))\n",
    "            auc[label][i][\"average\"] = (auc[label][i][\"lower\"]+auc[label][i][\"upper\"])/2.\n",
    "\n",
    "        plt.legend(names)\n",
    "        plt.savefig('results/f1_images/'+label+'.png', bbox_inches='tight')\n",
    "\n",
    "        \n",
    "    return auc\n"
   ]
  },
  {
   "cell_type": "code",
   "execution_count": 18,
   "metadata": {},
   "outputs": [],
   "source": [
    "names = [\"Naive Bayes\",\"SVM\",\"Alignment v1 (Tweet)\",\"Alignment v2 (Tweets)\"]\n",
    "statistics = [bag_of_words_nb_statistics,svm_v1_statistics,alignment_v1_tweets_statistics,alignment_v2_tweets_statistics]"
   ]
  },
  {
   "cell_type": "code",
   "execution_count": 20,
   "metadata": {},
   "outputs": [
    {
     "data": {
      "image/png": "[encoded data removed]",
      "text/plain": [
       "<matplotlib.figure.Figure at 0x2298eafa470>"
      ]
     },
     "metadata": {},
     "output_type": "display_data"
    }
   ],
   "source": [
    "auc = create_plots(statistics,names,metric=\"f1_score\")"
   ]
  },
  {
   "cell_type": "code",
   "execution_count": 22,
   "metadata": {},
   "outputs": [
    {
     "data": {
      "image/png": "[encoded data removed]",
      "text/plain": [
       "<matplotlib.figure.Figure at 0x229852cce80>"
      ]
     },
     "metadata": {},
     "output_type": "display_data"
    }
   ],
   "source": [
    "N = 0\n",
    "labels = []\n",
    "F1_scores = []\n",
    "for label, value in auc.items():\n",
    "    N = N + 1\n",
    "    labels.append(label)\n",
    "    F1_scores.append(-1.*auc[label][3][\"average\"])\n",
    "\n",
    "inxs = np.argsort(F1_scores)\n",
    "labels = list(np.array(labels)[inxs])\n",
    "        \n",
    "ind = np.arange(N)  # the x locations for the groups\n",
    "width = 0.3       # the width of the bars\n",
    "\n",
    "fig, ax = plt.subplots(figsize=(8, 5))\n",
    "\n",
    "rects = []\n",
    "colors = [\"r\",\"b\",\"g\",\"y\",\"c\"]            \n",
    "for i in range(len(names)):\n",
    "    means = []\n",
    "    errors = []\n",
    "    for label in labels:\n",
    "        lower = np.round(100*auc[label][i][\"lower\"])/100\n",
    "        upper = np.round(100*auc[label][i][\"upper\"])/100\n",
    "        average = np.round(100*auc[label][i][\"average\"])/100\n",
    "        means.append(average)\n",
    "        errors.append(upper-average)\n",
    "    \n",
    "    rects.append(ax.barh(ind + width*(i-1), means,width, color=colors[i], xerr=errors))\n",
    "\n",
    "# add some text for labels, title and axes ticks\n",
    "ax.set_xlabel('F1')\n",
    "#ax.set_title('Scores by group and gender')\n",
    "ax.set_yticks(ind + width / len(names))\n",
    "ax.set_yticklabels(labels)\n",
    "\n",
    "legend_ref = []\n",
    "for rect in rects:\n",
    "    legend_ref.append(rect[0])\n",
    "ax.legend(legend_ref, names)\n",
    "\n",
    "\n",
    "def autolabel(rects):\n",
    "    \"\"\"\n",
    "    Attach a text label above each bar displaying its height\n",
    "    \"\"\"\n",
    "    for rect in rects:\n",
    "        height = rect.get_height()\n",
    "        ax.text(rect.get_x() + rect.get_width()/2., 1.05*height,\n",
    "                '%d' % int(height),\n",
    "                ha='center', va='bottom')\n",
    "\n",
    "#autolabel(rects1)\n",
    "#autolabel(rects2)\n",
    "\n",
    "plt.savefig('results/f1_images/histogram.png', bbox_inches='tight')\n",
    "plt.show()\n"
   ]
  },
  {
   "cell_type": "markdown",
   "metadata": {},
   "source": [
    "### Code to generate the latex table"
   ]
  },
  {
   "cell_type": "code",
   "execution_count": 23,
   "metadata": {},
   "outputs": [
    {
     "name": "stdout",
     "output_type": "stream",
     "text": [
      "Category & \\# Samples & Naive Bayes & SVM & Alignment v1 (Tweet) & Alignment v2 (Tweets) \\\\ \\hline\n",
      "tweets & 25 & 0.68 - 0.76 & 0.63 - 0.73 & 0.08 - 0.18 & 0.6 - 0.7\\\\\n"
     ]
    }
   ],
   "source": [
    "first = True\n",
    "for label in labels:\n",
    "        if first:\n",
    "            print(\"Category\",end=\"\")\n",
    "            print(\" & \",end=\"\")\n",
    "            print(\"\\# Samples\",end=\"\")\n",
    "            for i in range(len(names)):\n",
    "                print(\" & \",end=\"\")\n",
    "                print(names[i],end=\"\")\n",
    "            print(\" \\\\\\\\ \\hline\")\n",
    "            first = False\n",
    "\n",
    "        plabel = label.replace(\"_\",\" \")\n",
    "        plabel = plabel.replace(\"NeighborhoodArea \",\"\")\n",
    "        plabel = plabel.replace(\"Interior \",\"\")\n",
    "        plabel = plabel.replace(\"PropertyLot \",\"\")\n",
    "        plabel = plabel.replace(\"Community \",\"\")\n",
    "        print(plabel,end=\"\")\n",
    "        print(\" & \",end=\"\")\n",
    "        print(len(statistics[0][label].keys()),end=\"\")\n",
    "        for i in range(len(names)):\n",
    "            print(\" & \",end=\"\")\n",
    "            lower = np.round(100*auc[label][i][\"lower\"])/100\n",
    "            upper = np.round(100*auc[label][i][\"upper\"])/100\n",
    "            print(str(lower)+\" - \"+str(upper),end=\"\")\n",
    "        \n",
    "        print(\"\\\\\\\\\")"
   ]
  },
  {
   "cell_type": "code",
   "execution_count": null,
   "metadata": {},
   "outputs": [],
   "source": []
  }
 ],
 "metadata": {
  "kernelspec": {
   "display_name": "Python 3.6",
   "language": "python",
   "name": "python3.6"
  },
  "language_info": {
   "codemirror_mode": {
    "name": "ipython",
    "version": 3
   },
   "file_extension": ".py",
   "mimetype": "text/x-python",
   "name": "python",
   "nbconvert_exporter": "python",
   "pygments_lexer": "ipython3",
   "version": "3.6.5"
  }
 },
 "nbformat": 4,
 "nbformat_minor": 2
}
